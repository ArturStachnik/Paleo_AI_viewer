{
 "cells": [
  {
   "cell_type": "markdown",
   "id": "9ddf4cb0",
   "metadata": {},
   "source": [
    "# Paleo AI Viewer – Holocene Temperature Prediction\n",
    "\n",
    "This notebook loads Holocene paleotemperature data, applies an ensemble of trained neural networks, and generates an interactive scatter plot comparing predicted and true temperature values.\n",
    "\n",
    "The plot includes a dropdown menu to color-code the points by season, proxy, or archive type.\n"
   ]
  },
  {
   "cell_type": "code",
   "execution_count": null,
   "id": "b19da1d9",
   "metadata": {},
   "outputs": [],
   "source": [
    "#Install dependencies"
   ]
  },
  {
   "cell_type": "markdown",
   "id": "75c2463d",
   "metadata": {},
   "source": [
    "### Interactive Visualization"
   ]
  },
  {
   "cell_type": "code",
   "execution_count": null,
   "id": "e01c9883",
   "metadata": {},
   "outputs": [],
   "source": [
    "!pip install -q torch==2.* plotly pandas scikit-learn joblib\n",
    "\n",
    "#Load from GitHub\n",
    "!git clone https://github.com/ArturStachnik/Paleo_AI_viewer.git repo\n",
    "\n",
    "#Imports\n",
    "import os, glob, torch, joblib\n",
    "import pandas as pd\n",
    "import numpy as np\n",
    "import torch.nn as nn\n",
    "from sklearn.model_selection import train_test_split\n",
    "\n",
    "#File paths\n",
    "MODELS_DIR = \"repo/models\"\n",
    "CSV_PATH   = \"repo/Holocene_T_clean.csv\"\n",
    "\n",
    "#Define Model and Utilities\n",
    "class ProbNet(nn.Module):\n",
    "    def __init__(self, input_dim):\n",
    "        super().__init__()\n",
    "        self.net = nn.Sequential(\n",
    "            nn.Linear(input_dim, 128), nn.ReLU(), nn.Dropout(0.1),\n",
    "            nn.Linear(128, 64), nn.ReLU(),\n",
    "        )\n",
    "        self.loc     = nn.Linear(64, 1)\n",
    "        self.log_var = nn.Linear(64, 1)\n",
    "    def forward(self, x):\n",
    "        h = self.net(x)\n",
    "        return self.loc(h), self.log_var(h)\n",
    "\n",
    "def load_ensemble(model_dir, device=\"cpu\"):\n",
    "    scaler = joblib.load(os.path.join(model_dir, \"scaler.pkl\"))\n",
    "    input_dim = scaler.scale_.shape[0] + 3\n",
    "    models = []\n",
    "    for path in sorted(glob.glob(os.path.join(model_dir, \"model_*.pt\"))):\n",
    "        m = ProbNet(input_dim).to(device)\n",
    "        m.load_state_dict(torch.load(path, map_location=device))\n",
    "        m.eval()\n",
    "        models.append(m)\n",
    "    return models, scaler\n",
    "\n",
    "def predict_mean(models, X):\n",
    "    X_t = torch.tensor(X, dtype=torch.float32)\n",
    "    with torch.no_grad():\n",
    "        mus = [m(X_t)[0].cpu().numpy().flatten() for m in models]\n",
    "    return np.mean(mus, axis=0)\n",
    "\n",
    "#Load and prepare data\n",
    "RAW_DF = pd.read_csv(CSV_PATH)\n",
    "seasons    = [\"annual\", \"warm\", \"cold\"]\n",
    "season_ohe = pd.get_dummies(RAW_DF[\"season\"])[seasons].values\n",
    "cont       = RAW_DF[[\"lon\", \"lat\", \"elev\", \"age\", \"resolution\"]].values\n",
    "y          = RAW_DF[\"temperature\"].values\n",
    "\n",
    "Xc_tr, Xc_te, y_tr, y_te, s_tr, s_te, idx_tr, idx_te = train_test_split(\n",
    "    cont, y, season_ohe, RAW_DF.index,\n",
    "    test_size=0.2, random_state=0, shuffle=True\n",
    ")\n",
    "\n",
    "device     = \"cuda\" if torch.cuda.is_available() else \"cpu\"\n",
    "models, sc = load_ensemble(MODELS_DIR, device)\n",
    "X_test     = np.hstack([sc.transform(Xc_te), s_te])\n",
    "mu_pred    = predict_mean(models, X_test)\n",
    "\n",
    "#Create DataFrame\n",
    "plot_df = pd.DataFrame({\n",
    "    \"True\":       y_te,\n",
    "    \"Predicted\":  mu_pred,\n",
    "    \"season\":     RAW_DF.loc[idx_te, \"season\"].values,\n",
    "    \"proxy\":      RAW_DF.loc[idx_te, \"proxy\"].values,\n",
    "    \"archive\":    RAW_DF.loc[idx_te, \"archive\"].values,\n",
    "    \"dataSetName\":RAW_DF.loc[idx_te, \"dataSetName\"].values,\n",
    "})"
   ]
  }
 ],
 "metadata": {
  "colab": {
   "provenance": []
  },
  "kernelspec": {
   "display_name": "Python 3",
   "name": "python3"
  },
  "language_info": {
   "name": "python"
  }
 },
 "nbformat": 4,
 "nbformat_minor": 0
}
